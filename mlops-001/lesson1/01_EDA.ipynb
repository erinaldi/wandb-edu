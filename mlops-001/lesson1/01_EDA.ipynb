{
 "cells": [
  {
   "cell_type": "markdown",
   "metadata": {},
   "source": [
    "<a href=\"https://colab.research.google.com/github/wandb/edu/blob/main/mlops-001/lesson1/01_EDA.ipynb\" target=\"_parent\"><img src=\"https://colab.research.google.com/assets/colab-badge.svg\" alt=\"Open In Colab\"/></a>\n",
    "<!--- @wandbcode{course-lesson1} -->"
   ]
  },
  {
   "cell_type": "markdown",
   "id": "a212966e-8f38-4b4a-8e00-2985120439ca",
   "metadata": {},
   "source": [
    "# EDA \n",
    "<!--- @wandbcode{course-lesson1} -->\n",
    "\n",
    "In this notebook, we will download a sample of the [BDD100K](https://www.bdd100k.com/) semantic segmentation dataset and use W&B Artifacts and Tables to version and analyze our data. "
   ]
  },
  {
   "cell_type": "code",
   "execution_count": 1,
   "id": "17490b58-a8f2-489e-9c71-ca0e078591dc",
   "metadata": {},
   "outputs": [],
   "source": [
    "DEBUG = False # set this flag to True to use a small subset of data for testing"
   ]
  },
  {
   "cell_type": "code",
   "execution_count": 2,
   "id": "7ee88efc-3257-4ed7-bb8c-1695f4a8c828",
   "metadata": {},
   "outputs": [],
   "source": [
    "from fastai.vision.all import *\n",
    "import params\n",
    "\n",
    "import wandb"
   ]
  },
  {
   "attachments": {},
   "cell_type": "markdown",
   "id": "202de192",
   "metadata": {},
   "source": [
    "## Download and look at data"
   ]
  },
  {
   "cell_type": "markdown",
   "id": "055764da-7252-4796-86af-585007dea288",
   "metadata": {},
   "source": [
    "We have defined some global configuration parameters in the `params.py` file. `ENTITY` should correspond to your W&B Team name if you work in a team, replace it with `None` if you work individually. \n",
    "\n",
    "In the section below, we will use `untar_data` function from `fastai` to download and unzip our datasets. "
   ]
  },
  {
   "cell_type": "code",
   "execution_count": 3,
   "id": "0bae3750-a653-4265-9c52-c1f9af9b8393",
   "metadata": {},
   "outputs": [],
   "source": [
    "URL = 'https://storage.googleapis.com/wandb_course/bdd_simple_1k.zip'"
   ]
  },
  {
   "cell_type": "code",
   "execution_count": 4,
   "id": "0da50d19-860a-4b39-8320-a376c483da04",
   "metadata": {},
   "outputs": [
    {
     "data": {
      "text/html": [
       "\n",
       "    <div>\n",
       "      <progress value='122470400' class='' max='122467691' style='width:300px; height:20px; vertical-align: middle;'></progress>\n",
       "      100.00% [122470400/122467691 00:01&lt;00:00]\n",
       "    </div>\n",
       "    "
      ],
      "text/plain": [
       "<IPython.core.display.HTML object>"
      ]
     },
     "metadata": {},
     "output_type": "display_data"
    }
   ],
   "source": [
    "path = Path(untar_data(URL, force_download=True))"
   ]
  },
  {
   "cell_type": "code",
   "execution_count": 5,
   "id": "6df5b830-e685-4a0d-81e8-6dda10697dff",
   "metadata": {},
   "outputs": [
    {
     "data": {
      "text/plain": [
       "(#3) [Path('/Users/enrythebest/.fastai/data/bdd_simple_1k/images'),Path('/Users/enrythebest/.fastai/data/bdd_simple_1k/labels'),Path('/Users/enrythebest/.fastai/data/bdd_simple_1k/LICENSE.txt')]"
      ]
     },
     "execution_count": 5,
     "metadata": {},
     "output_type": "execute_result"
    }
   ],
   "source": [
    "path.ls()"
   ]
  },
  {
   "cell_type": "code",
   "execution_count": 6,
   "id": "84d3e4d3",
   "metadata": {},
   "outputs": [
    {
     "data": {
      "text/plain": [
       "(#1000) [Path('/Users/enrythebest/.fastai/data/bdd_simple_1k/images/a59131a5-00000000.jpg'),Path('/Users/enrythebest/.fastai/data/bdd_simple_1k/images/6886b3d9-6ab2b28d.jpg'),Path('/Users/enrythebest/.fastai/data/bdd_simple_1k/images/115e4aff-00000000.jpg'),Path('/Users/enrythebest/.fastai/data/bdd_simple_1k/images/b803d91d-671b8cff.jpg'),Path('/Users/enrythebest/.fastai/data/bdd_simple_1k/images/c665137e-6fffaf45.jpg'),Path('/Users/enrythebest/.fastai/data/bdd_simple_1k/images/6b293d3e-59d5f868.jpg'),Path('/Users/enrythebest/.fastai/data/bdd_simple_1k/images/898ac5b9-00000000.jpg'),Path('/Users/enrythebest/.fastai/data/bdd_simple_1k/images/a91b7555-00001125.jpg'),Path('/Users/enrythebest/.fastai/data/bdd_simple_1k/images/16e186ec-00000000.jpg'),Path('/Users/enrythebest/.fastai/data/bdd_simple_1k/images/b18cb922-e3af77af.jpg')...]"
      ]
     },
     "execution_count": 6,
     "metadata": {},
     "output_type": "execute_result"
    }
   ],
   "source": [
    "(path / \"images\").ls()\n"
   ]
  },
  {
   "cell_type": "code",
   "execution_count": 7,
   "id": "a875ac11",
   "metadata": {},
   "outputs": [
    {
     "data": {
      "text/plain": [
       "(#1001) [Path('/Users/enrythebest/.fastai/data/bdd_simple_1k/labels/2ad035f4-cd94d608_mask.png'),Path('/Users/enrythebest/.fastai/data/bdd_simple_1k/labels/7f92cc43-edf59deb_mask.png'),Path('/Users/enrythebest/.fastai/data/bdd_simple_1k/labels/3d0d454e-f0132c99_mask.png'),Path('/Users/enrythebest/.fastai/data/bdd_simple_1k/labels/a1acfdb8-68db64af_mask.png'),Path('/Users/enrythebest/.fastai/data/bdd_simple_1k/labels/1af21ce1-e157b867_mask.png'),Path('/Users/enrythebest/.fastai/data/bdd_simple_1k/labels/167a78e3-f955e644_mask.png'),Path('/Users/enrythebest/.fastai/data/bdd_simple_1k/labels/652f7310-5dbedb62_mask.png'),Path('/Users/enrythebest/.fastai/data/bdd_simple_1k/labels/6b73ccdd-00000000_mask.png'),Path('/Users/enrythebest/.fastai/data/bdd_simple_1k/labels/203fb7bc-cbb4be86_mask.png'),Path('/Users/enrythebest/.fastai/data/bdd_simple_1k/labels/0027eed2-09c90000_mask.png')...]"
      ]
     },
     "execution_count": 7,
     "metadata": {},
     "output_type": "execute_result"
    }
   ],
   "source": [
    "(path / \"labels\").ls()\n"
   ]
  },
  {
   "attachments": {},
   "cell_type": "markdown",
   "id": "6c264274",
   "metadata": {},
   "source": [
    "## Functions to handle the dataset"
   ]
  },
  {
   "cell_type": "markdown",
   "id": "db6708ae-abaa-432f-83b0-028a99222096",
   "metadata": {},
   "source": [
    "Here we define several functions to help us process the data and upload it as a `Table` to W&B. "
   ]
  },
  {
   "cell_type": "code",
   "execution_count": 8,
   "id": "6ac096a5",
   "metadata": {},
   "outputs": [],
   "source": [
    "def label_func(fname: Path) -> Path:\n",
    "    \"\"\"This function takes a file name for an image\n",
    "    and it returns the full path to the corresponding mask/label\n",
    "    file.\n",
    "\n",
    "    Args:\n",
    "        fname (Path): The filename of the image we want the label of. \n",
    "                     (it should be in the 'images' folder)\n",
    "\n",
    "    Returns:\n",
    "        Path: The full path to the mask file in the 'labels' folder\n",
    "    \"\"\"\n",
    "    return (fname.parent.parent/\"labels\")/f\"{fname.stem}_mask.png\"\n"
   ]
  },
  {
   "cell_type": "code",
   "execution_count": 9,
   "id": "071a31f2",
   "metadata": {},
   "outputs": [],
   "source": [
    "image_path = (path / \"images\").ls()[0]"
   ]
  },
  {
   "cell_type": "code",
   "execution_count": 10,
   "id": "8fb37a34",
   "metadata": {},
   "outputs": [
    {
     "name": "stdout",
     "output_type": "stream",
     "text": [
      "/Users/enrythebest/.fastai/data/bdd_simple_1k/images/a59131a5-00000000.jpg\n"
     ]
    }
   ],
   "source": [
    "print(image_path)"
   ]
  },
  {
   "cell_type": "code",
   "execution_count": 11,
   "id": "53c1512a",
   "metadata": {},
   "outputs": [
    {
     "data": {
      "text/plain": [
       "Path('/Users/enrythebest/.fastai/data/bdd_simple_1k/labels/a59131a5-00000000_mask.png')"
      ]
     },
     "execution_count": 11,
     "metadata": {},
     "output_type": "execute_result"
    }
   ],
   "source": [
    "label_func(image_path)"
   ]
  },
  {
   "cell_type": "code",
   "execution_count": 12,
   "id": "2fb8c377",
   "metadata": {},
   "outputs": [],
   "source": [
    "from typing import Dict\n",
    "\n",
    "\n",
    "def get_classes_per_image(mask_data: np.ndarray, class_labels: Dict) -> Dict:\n",
    "    \"\"\"This function takes the data of a label file (mask)\n",
    "    and a dictionary mapping numbers to different object classes.\n",
    "    Then it returns a new dictionary with all the classes in the\n",
    "    given mask.\n",
    "\n",
    "    Args:\n",
    "        mask_data (np.ndarray): The data from the mask/label file\n",
    "        class_labels (Dict): A dictionary of all classes and their names\n",
    "\n",
    "    Returns:\n",
    "        Dict: A dictionary of the classes in the input mask file\n",
    "    \"\"\"\n",
    "    unique = list(np.unique(mask_data))\n",
    "    result_dict = {}\n",
    "    for _class in class_labels.keys():\n",
    "        result_dict[class_labels[_class]] = int(_class in unique)\n",
    "    return result_dict\n"
   ]
  },
  {
   "cell_type": "code",
   "execution_count": 13,
   "id": "bc71f190",
   "metadata": {},
   "outputs": [
    {
     "data": {
      "text/plain": [
       "{0: 'background',\n",
       " 1: 'road',\n",
       " 2: 'traffic light',\n",
       " 3: 'traffic sign',\n",
       " 4: 'person',\n",
       " 5: 'vehicle',\n",
       " 6: 'bicycle'}"
      ]
     },
     "execution_count": 13,
     "metadata": {},
     "output_type": "execute_result"
    }
   ],
   "source": [
    "params.BDD_CLASSES  # all class labels"
   ]
  },
  {
   "cell_type": "code",
   "execution_count": 14,
   "id": "8fa6d5d1",
   "metadata": {},
   "outputs": [],
   "source": [
    "mask_data = np.array(Image.open(label_func(image_path)))"
   ]
  },
  {
   "cell_type": "code",
   "execution_count": 15,
   "id": "16fadc1d",
   "metadata": {},
   "outputs": [
    {
     "data": {
      "text/plain": [
       "(720, 1280)"
      ]
     },
     "execution_count": 15,
     "metadata": {},
     "output_type": "execute_result"
    }
   ],
   "source": [
    "mask_data.shape"
   ]
  },
  {
   "cell_type": "code",
   "execution_count": 16,
   "id": "b3b19896",
   "metadata": {},
   "outputs": [
    {
     "data": {
      "text/plain": [
       "{'background': 1,\n",
       " 'road': 1,\n",
       " 'traffic light': 0,\n",
       " 'traffic sign': 1,\n",
       " 'person': 0,\n",
       " 'vehicle': 1,\n",
       " 'bicycle': 0}"
      ]
     },
     "execution_count": 16,
     "metadata": {},
     "output_type": "execute_result"
    }
   ],
   "source": [
    "get_classes_per_image(mask_data=mask_data, class_labels=params.BDD_CLASSES)"
   ]
  },
  {
   "cell_type": "code",
   "execution_count": 17,
   "id": "5779f980-4d9b-4645-9726-642a25334e10",
   "metadata": {},
   "outputs": [],
   "source": [
    "from typing import List\n",
    "\n",
    "\n",
    "def _create_table(image_files: List, class_labels: Dict) -> wandb.Table:\n",
    "    \"\"\"This function creates a wandb Table to be stored on wandb.\n",
    "    It includes columns with images and numbers. The images come from the\n",
    "    image files and label files.\n",
    "\n",
    "    Args:\n",
    "        image_files (List): A list of Paths to files with images.\n",
    "        class_labels (Dict): The dictionary defining the labels in the dataset\n",
    "\n",
    "    Returns:\n",
    "        wandb.Table: A wandb table including images and numbers\n",
    "    \"\"\"\n",
    "    labels = [\n",
    "        str(class_labels[_lab]) for _lab in list(class_labels)\n",
    "    ]  # strings for each label\n",
    "    table = wandb.Table(\n",
    "        columns=[\"File_Name\", \"Images\", \"Split\"] + labels\n",
    "    )  # init table with these columns (split is for train/valid/test indicator)\n",
    "\n",
    "    for _, image_file in progress_bar(enumerate(image_files), total=len(image_files)):\n",
    "        # loop over all images in the list\n",
    "        image = Image.open(image_file)\n",
    "        mask_data = np.array(Image.open(label_func(image_file)))\n",
    "        class_in_image = get_classes_per_image(mask_data, class_labels)\n",
    "        # add data to table: one row\n",
    "        table.add_data(\n",
    "            str(image_file.name),\n",
    "            # use the Image type: it can handle masks!\n",
    "            # https://docs.wandb.ai/guides/track/log/media#image-overlays-in-tables\n",
    "            wandb.Image(\n",
    "                image,\n",
    "                masks={\n",
    "                    \"predictions\": {\n",
    "                        \"mask_data\": mask_data,\n",
    "                        \"class_labels\": class_labels,\n",
    "                    }\n",
    "                },\n",
    "            ),\n",
    "            \"None\",  # we don't have a dataset split yet\n",
    "            *[class_in_image[_lab] for _lab in labels]\n",
    "        )\n",
    "\n",
    "    return table\n"
   ]
  },
  {
   "attachments": {},
   "cell_type": "markdown",
   "id": "ebfe192d",
   "metadata": {},
   "source": [
    "## Start a W&B run"
   ]
  },
  {
   "cell_type": "markdown",
   "id": "eac085cd-2409-4baf-a887-108e3dca65b9",
   "metadata": {},
   "source": [
    "We will start a new W&B `run` and put everything into a raw Artifact."
   ]
  },
  {
   "cell_type": "code",
   "execution_count": 18,
   "id": "cc531a71",
   "metadata": {},
   "outputs": [
    {
     "name": "stderr",
     "output_type": "stream",
     "text": [
      "\u001b[34m\u001b[1mwandb\u001b[0m: Currently logged in as: \u001b[33merinaldi\u001b[0m (\u001b[33merinaldi-team\u001b[0m). Use \u001b[1m`wandb login --relogin`\u001b[0m to force relogin\n"
     ]
    },
    {
     "data": {
      "text/html": [
       "Tracking run with wandb version 0.13.10"
      ],
      "text/plain": [
       "<IPython.core.display.HTML object>"
      ]
     },
     "metadata": {},
     "output_type": "display_data"
    },
    {
     "data": {
      "text/html": [
       "Run data is saved locally in <code>/Users/enrythebest/Projects/wandb-edu/mlops-001/lesson1/wandb/run-20230211_154820-f3l60vyo</code>"
      ],
      "text/plain": [
       "<IPython.core.display.HTML object>"
      ]
     },
     "metadata": {},
     "output_type": "display_data"
    },
    {
     "data": {
      "text/html": [
       "Syncing run <strong><a href='https://wandb.ai/erinaldi-team/mlops-course-001/runs/f3l60vyo' target=\"_blank\">sage-salad-1</a></strong> to <a href='https://wandb.ai/erinaldi-team/mlops-course-001' target=\"_blank\">Weights & Biases</a> (<a href='https://wandb.me/run' target=\"_blank\">docs</a>)<br/>"
      ],
      "text/plain": [
       "<IPython.core.display.HTML object>"
      ]
     },
     "metadata": {},
     "output_type": "display_data"
    },
    {
     "data": {
      "text/html": [
       " View project at <a href='https://wandb.ai/erinaldi-team/mlops-course-001' target=\"_blank\">https://wandb.ai/erinaldi-team/mlops-course-001</a>"
      ],
      "text/plain": [
       "<IPython.core.display.HTML object>"
      ]
     },
     "metadata": {},
     "output_type": "display_data"
    },
    {
     "data": {
      "text/html": [
       " View run at <a href='https://wandb.ai/erinaldi-team/mlops-course-001/runs/f3l60vyo' target=\"_blank\">https://wandb.ai/erinaldi-team/mlops-course-001/runs/f3l60vyo</a>"
      ],
      "text/plain": [
       "<IPython.core.display.HTML object>"
      ]
     },
     "metadata": {},
     "output_type": "display_data"
    }
   ],
   "source": [
    "# job_type can be used to identify runs by name. Here we just use the run to upload artifacts.\n",
    "run = wandb.init(project=params.WANDB_PROJECT, entity=params.ENTITY, job_type=\"upload\")"
   ]
  },
  {
   "cell_type": "code",
   "execution_count": 19,
   "id": "e87141b3-b9b7-4a40-839c-64c835484f48",
   "metadata": {},
   "outputs": [],
   "source": [
    "# init Artifact giving it a name and type. Here we want to update the raw data\n",
    "raw_data_at = wandb.Artifact(params.RAW_DATA_AT, type=\"raw_data\")"
   ]
  },
  {
   "attachments": {},
   "cell_type": "markdown",
   "id": "5b254660",
   "metadata": {},
   "source": [
    "Add the first file"
   ]
  },
  {
   "cell_type": "code",
   "execution_count": 20,
   "id": "f2de6968-b465-4e2e-aaf1-787a48c7981e",
   "metadata": {},
   "outputs": [
    {
     "data": {
      "text/plain": [
       "ArtifactManifestEntry(path='LICENSE.txt', digest='X+6ZFkDOlnKesJCNt20yRg==', ref=None, birth_artifact_id=None, size=1594, extra={}, local_path='/Users/enrythebest/Library/Application Support/wandb/artifacts/staging/tmp3ym4gd0o')"
      ]
     },
     "execution_count": 20,
     "metadata": {},
     "output_type": "execute_result"
    }
   ],
   "source": [
    "raw_data_at.add_file(path/'LICENSE.txt', name='LICENSE.txt')"
   ]
  },
  {
   "cell_type": "markdown",
   "id": "10addc71-201d-4c29-af23-9a5d9a5cbddf",
   "metadata": {},
   "source": [
    "Let's add the images and label masks."
   ]
  },
  {
   "cell_type": "code",
   "execution_count": 21,
   "id": "e2e29a83-ec60-4518-8b73-078f1719bc8f",
   "metadata": {},
   "outputs": [
    {
     "name": "stderr",
     "output_type": "stream",
     "text": [
      "\u001b[34m\u001b[1mwandb\u001b[0m: Adding directory to artifact (/Users/enrythebest/.fastai/data/bdd_simple_1k/images)... Done. 0.3s\n",
      "\u001b[34m\u001b[1mwandb\u001b[0m: Adding directory to artifact (/Users/enrythebest/.fastai/data/bdd_simple_1k/labels)... Done. 0.3s\n"
     ]
    }
   ],
   "source": [
    "raw_data_at.add_dir(path/'images', name='images')\n",
    "raw_data_at.add_dir(path/'labels', name='labels')"
   ]
  },
  {
   "cell_type": "markdown",
   "id": "01b989eb-36da-4194-9a34-88126749f210",
   "metadata": {},
   "source": [
    "Let's get the file names of images in our dataset and use the function we defined above to create a W&B Table. "
   ]
  },
  {
   "cell_type": "code",
   "execution_count": 22,
   "id": "aeaa2dae-1b2b-4c70-8dcf-b079f4f05b86",
   "metadata": {},
   "outputs": [],
   "source": [
    "image_files = get_image_files(path/\"images\", recurse=False)\n",
    "\n",
    "# sample a subset if DEBUG\n",
    "if DEBUG: image_files = image_files[:10]"
   ]
  },
  {
   "cell_type": "code",
   "execution_count": 23,
   "id": "451ff088-4cb3-4739-b4e8-308d03645ffe",
   "metadata": {},
   "outputs": [
    {
     "data": {
      "text/html": [
       "\n",
       "    <div>\n",
       "      <progress value='1000' class='' max='1000' style='width:300px; height:20px; vertical-align: middle;'></progress>\n",
       "      100.00% [1000/1000 03:47&lt;00:00]\n",
       "    </div>\n",
       "    "
      ],
      "text/plain": [
       "<IPython.core.display.HTML object>"
      ]
     },
     "metadata": {},
     "output_type": "display_data"
    }
   ],
   "source": [
    "table = _create_table(image_files, params.BDD_CLASSES)"
   ]
  },
  {
   "cell_type": "code",
   "execution_count": 24,
   "id": "02da2915",
   "metadata": {},
   "outputs": [
    {
     "data": {
      "text/plain": [
       "<wandb.data_types.Table at 0x2a16d1c60>"
      ]
     },
     "execution_count": 24,
     "metadata": {},
     "output_type": "execute_result"
    }
   ],
   "source": [
    "table"
   ]
  },
  {
   "cell_type": "markdown",
   "id": "ff73cd37-6a72-44f7-a5cf-6abe7d327092",
   "metadata": {},
   "source": [
    "Finally, we will add the Table to our Artifact, log it to W&B and finish our `run`. "
   ]
  },
  {
   "cell_type": "code",
   "execution_count": 25,
   "id": "d4183e9c-75e4-48a8-a2e1-0f4492c0b5d0",
   "metadata": {},
   "outputs": [
    {
     "data": {
      "text/plain": [
       "ArtifactManifestEntry(path='eda_table.table.json', digest='Kb95NefVOOU0ulL2SYXFtw==', ref=None, birth_artifact_id=None, size=588824, extra={}, local_path='/Users/enrythebest/Library/Application Support/wandb/artifacts/staging/tmpeis8mvcv')"
      ]
     },
     "execution_count": 25,
     "metadata": {},
     "output_type": "execute_result"
    }
   ],
   "source": [
    "raw_data_at.add(table, \"eda_table\")"
   ]
  },
  {
   "attachments": {},
   "cell_type": "markdown",
   "id": "3ed2b915",
   "metadata": {},
   "source": [
    "This is the command that does the actual push to the W&B server using `log_artifact`."
   ]
  },
  {
   "cell_type": "code",
   "execution_count": 26,
   "id": "e81ed9c8-6905-4841-a9f7-e3f3b9b6d927",
   "metadata": {},
   "outputs": [
    {
     "data": {
      "text/plain": [
       "<wandb.sdk.wandb_artifacts.Artifact at 0x280301690>"
      ]
     },
     "execution_count": 26,
     "metadata": {},
     "output_type": "execute_result"
    }
   ],
   "source": [
    "run.log_artifact(raw_data_at)\n"
   ]
  },
  {
   "attachments": {},
   "cell_type": "markdown",
   "id": "511e5bdc",
   "metadata": {},
   "source": [
    "For now we are done, so we can close the W&B run we started with `init`. This can take some time because the upload happens here."
   ]
  },
  {
   "cell_type": "code",
   "execution_count": 27,
   "id": "e5bc38f8",
   "metadata": {},
   "outputs": [
    {
     "data": {
      "text/html": [
       "Waiting for W&B process to finish... <strong style=\"color:green\">(success).</strong>"
      ],
      "text/plain": [
       "<IPython.core.display.HTML object>"
      ]
     },
     "metadata": {},
     "output_type": "display_data"
    },
    {
     "data": {
      "text/html": [
       " View run <strong style=\"color:#cdcd00\">sage-salad-1</strong> at: <a href='https://wandb.ai/erinaldi-team/mlops-course-001/runs/f3l60vyo' target=\"_blank\">https://wandb.ai/erinaldi-team/mlops-course-001/runs/f3l60vyo</a><br/>Synced 6 W&B file(s), 0 media file(s), 4007 artifact file(s) and 0 other file(s)"
      ],
      "text/plain": [
       "<IPython.core.display.HTML object>"
      ]
     },
     "metadata": {},
     "output_type": "display_data"
    },
    {
     "data": {
      "text/html": [
       "Find logs at: <code>./wandb/run-20230211_154820-f3l60vyo/logs</code>"
      ],
      "text/plain": [
       "<IPython.core.display.HTML object>"
      ]
     },
     "metadata": {},
     "output_type": "display_data"
    }
   ],
   "source": [
    "run.finish()"
   ]
  }
 ],
 "metadata": {
  "kernelspec": {
   "display_name": "mlops-wandb",
   "language": "python",
   "name": "python3"
  },
  "language_info": {
   "codemirror_mode": {
    "name": "ipython",
    "version": 3
   },
   "file_extension": ".py",
   "mimetype": "text/x-python",
   "name": "python",
   "nbconvert_exporter": "python",
   "pygments_lexer": "ipython3",
   "version": "3.10.9"
  },
  "vscode": {
   "interpreter": {
    "hash": "4cc09e5f9b95d4bcc88fc42952568d46d5e5c9883592c2e6e890264114f7f170"
   }
  }
 },
 "nbformat": 4,
 "nbformat_minor": 5
}
